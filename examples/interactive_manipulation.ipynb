{
 "cells": [
  {
   "cell_type": "markdown",
   "metadata": {},
   "source": [
    "# Mechanism Manipulation\n",
    "\n",
    "MeshCatMechanisms.jl can use [InteractBase.jl](https://github.com/piever/InteractBase.jl) to let you interactively modify the configuration of a mechanism state or a mechanism's visualizer. We'll show off a few use cases here. "
   ]
  },
  {
   "cell_type": "code",
   "execution_count": null,
   "metadata": {},
   "outputs": [],
   "source": [
    "using Pkg\n",
    "Pkg.activate(joinpath(@__DIR__, \"..\"))"
   ]
  },
  {
   "cell_type": "code",
   "execution_count": null,
   "metadata": {},
   "outputs": [],
   "source": [
    "# Import our packages\n",
    "using MeshCatMechanisms\n",
    "using RigidBodyDynamics"
   ]
  },
  {
   "cell_type": "code",
   "execution_count": null,
   "metadata": {},
   "outputs": [],
   "source": [
    "# Create a random mechanism and its associated visualizer\n",
    "\n",
    "# seed the random number generator so we get repeatable results\n",
    "import Random\n",
    "Random.seed!(75)\n",
    "mechanism = rand_chain_mechanism(Float64, \n",
    "    [QuaternionFloating{Float64}; [Revolute{Float64} for i = 1:5]]...)\n",
    "mvis = MechanismVisualizer(mechanism, Skeleton(randomize_colors=true))"
   ]
  },
  {
   "cell_type": "code",
   "execution_count": null,
   "metadata": {},
   "outputs": [],
   "source": [
    "# Render the visualizer\n",
    "render(mvis)"
   ]
  },
  {
   "cell_type": "markdown",
   "metadata": {},
   "source": [
    "The simplest thing we might want to do is to manipulate a visualized mechanism. To do that, we simply need the `manipulate!()` function: "
   ]
  },
  {
   "cell_type": "code",
   "execution_count": null,
   "metadata": {},
   "outputs": [],
   "source": [
    "# Create sliders to manipulate the visualizer's configuration\n",
    "widget = manipulate!(mvis)"
   ]
  },
  {
   "cell_type": "markdown",
   "metadata": {},
   "source": [
    "The `manipulate!()` function can also do more than just adjust a visualizer. The low-level signature of `manipulate!()` is:\n",
    "\n",
    "```julia\n",
    "manipulate!(callback::Function, state::RigidBodyDynamics.MechanismState)\n",
    "```\n",
    "\n",
    "This method does the following things: \n",
    "* Creates `InteractBase.slider`s for each joint in the mechanism\n",
    "* Sets up observers (using Observables.jl) to watch for changes to those sliders\n",
    "* On any slider change:\n",
    "  * Update the configuration of the provided state\n",
    "  * Call `callback(state)`\n",
    "* Returns the collected sliders\n",
    "\n",
    "The jupyter notebook itself helps by automatically displaying the resulting sliders when they are the final item in a notebook cell. To force the sliders to display, just use the `display()` function: \n",
    "\n",
    "```julia\n",
    "display(manipulate!(...))\n",
    "```\n",
    "\n",
    "Let's try a simple example:"
   ]
  },
  {
   "cell_type": "code",
   "execution_count": null,
   "metadata": {},
   "outputs": [],
   "source": [
    "state = MechanismState(mechanism)\n",
    "manipulate!(state) do x\n",
    "    @show configuration(x)\n",
    "end"
   ]
  },
  {
   "cell_type": "markdown",
   "metadata": {},
   "source": [
    "By the way, if you're not familiar with the way `do` blocks work in Julia, see <https://docs.julialang.org/en/stable/manual/functions/#Do-Block-Syntax-for-Function-Arguments-1>"
   ]
  },
  {
   "cell_type": "markdown",
   "metadata": {},
   "source": [
    "With that in mind, we can easily reconstruct the behavior of `manipulate!()` when we pass it a `MechanismVisualizer` instead of a state and a callback: "
   ]
  },
  {
   "cell_type": "code",
   "execution_count": null,
   "metadata": {},
   "outputs": [],
   "source": [
    "# manipulate!(mvis) does essentially the following: \n",
    "\n",
    "manipulate!(state) do x\n",
    "    set_configuration!(mvis, configuration(x))\n",
    "end"
   ]
  }
 ],
 "metadata": {
  "@webio": {
   "lastCommId": "24153072917248878c2504f8d41144e0",
   "lastKernelId": "7e34dd28-a64c-4428-9bea-63befbdea05d"
  },
  "kernelspec": {
   "display_name": "Julia 1.11.2",
   "language": "julia",
   "name": "julia-1.11"
  },
  "language_info": {
   "file_extension": ".jl",
   "mimetype": "application/julia",
   "name": "julia",
   "version": "1.11.2"
  }
 },
 "nbformat": 4,
 "nbformat_minor": 4
}
